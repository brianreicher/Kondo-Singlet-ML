{
 "cells": [
  {
   "cell_type": "code",
   "execution_count": 1,
   "id": "aec837f6",
   "metadata": {},
   "outputs": [
    {
     "name": "stderr",
     "output_type": "stream",
     "text": [
      "2022-03-04 12:00:30.315509: I tensorflow/core/platform/cpu_feature_guard.cc:151] This TensorFlow binary is optimized with oneAPI Deep Neural Network Library (oneDNN) to use the following CPU instructions in performance-critical operations:  AVX2 FMA\n",
      "To enable them in other operations, rebuild TensorFlow with the appropriate compiler flags.\n"
     ]
    },
    {
     "name": "stdout",
     "output_type": "stream",
     "text": [
      "Epoch 1/10\n",
      "2/2 [==============================] - 0s 2ms/step - loss: 3331.9707\n",
      "Epoch 2/10\n",
      "2/2 [==============================] - 0s 1ms/step - loss: 3328.8625\n",
      "Epoch 3/10\n",
      "2/2 [==============================] - 0s 3ms/step - loss: 3325.8799\n",
      "Epoch 4/10\n",
      "2/2 [==============================] - 0s 2ms/step - loss: 3322.7190\n",
      "Epoch 5/10\n",
      "2/2 [==============================] - 0s 2ms/step - loss: 3319.6306\n",
      "Epoch 6/10\n",
      "2/2 [==============================] - 0s 3ms/step - loss: 3316.3557\n",
      "Epoch 7/10\n",
      "2/2 [==============================] - 0s 2ms/step - loss: 3312.8975\n",
      "Epoch 8/10\n",
      "2/2 [==============================] - 0s 3ms/step - loss: 3309.2151\n",
      "Epoch 9/10\n",
      "2/2 [==============================] - 0s 4ms/step - loss: 3305.1775\n",
      "Epoch 10/10\n",
      "2/2 [==============================] - 0s 3ms/step - loss: 3300.9065\n"
     ]
    }
   ],
   "source": [
    "import numpy as np\n",
    "from tensorflow.python.keras.layers import Input, Dense\n",
    "from tensorflow.python.keras.models import Model\n",
    "\n",
    "X=np.random.random(size=(100,1))\n",
    "y=np.random.randint(0,100,size=(100,3)).astype(float)   #Regression\n",
    "\n",
    "input1 = Input(shape=(1,))\n",
    "l1 = Dense(10, activation='relu')(input1)\n",
    "l2 = Dense(50, activation='relu')(l1)\n",
    "l3 = Dense(50, activation='relu')(l2)\n",
    "out = Dense(3)(l3)\n",
    "\n",
    "model = Model(inputs=input1, outputs=[out])\n",
    "model.compile(\n",
    "    optimizer='adam',\n",
    "    loss=['mean_squared_error']\n",
    "    )\n",
    "\n",
    "history = model.fit(X, [y], epochs=10, batch_size=64)"
   ]
  }
 ],
 "metadata": {
  "kernelspec": {
   "display_name": "Python 3 (ipykernel)",
   "language": "python",
   "name": "python3"
  },
  "language_info": {
   "codemirror_mode": {
    "name": "ipython",
    "version": 3
   },
   "file_extension": ".py",
   "mimetype": "text/x-python",
   "name": "python",
   "nbconvert_exporter": "python",
   "pygments_lexer": "ipython3",
   "version": "3.9.1"
  }
 },
 "nbformat": 4,
 "nbformat_minor": 5
}
