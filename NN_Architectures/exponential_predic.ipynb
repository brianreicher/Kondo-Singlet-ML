{
 "cells": [
  {
   "cell_type": "code",
   "execution_count": 3,
   "metadata": {},
   "outputs": [],
   "source": [
    "import numpy as np\n",
    "import pandas as pd\n",
    "import torch \n",
    "import tensorboard"
   ]
  },
  {
   "cell_type": "markdown",
   "metadata": {},
   "source": [
    "Generate dataset"
   ]
  },
  {
   "cell_type": "markdown",
   "metadata": {},
   "source": [
    "- Consider the exponential function f(x)=exp(-x/c), with x=0,1,2,….,L-1 integers\n",
    "- Generate many training datasets {f(0,f(1),f(2),…f(L-1)} for different values of c\n",
    "- Now we solve the inverse problem: input c and see if you get the exponential."
   ]
  },
  {
   "cell_type": "code",
   "execution_count": 69,
   "metadata": {},
   "outputs": [],
   "source": [
    "#Returns a dataframe of calculated exponential functions for given C-parameters and L-angular quantum numbers\n",
    "class GenerateData():\n",
    "    def __init__(self, l):\n",
    "        self.l = l\n",
    "        self.x = np.arange(l)\n",
    "        self.c = np.arange(start=0.0001, stop=1, step = 0.0001)\n",
    "    \n",
    "    #Evaluate function for given c-values\n",
    "    def Func(self, input, arg):\n",
    "        #func= np.zeros(shape = (self.l,))\n",
    "        #for i in range(0, self.l):\n",
    "        #    func[i] = np.e**(-self.x[i]/arg)\n",
    "        return np.e**(-input/arg)\n",
    "    \n",
    "    #Create dataset: 100,000 funcs?\n",
    "    def Populate(self):\n",
    "        func_df = pd.DataFrame(index = self.c.tolist())\n",
    "        for i in self.x:\n",
    "            col = []\n",
    "            for j in self.c:\n",
    "                col.append(GenerateData(self.l).Func(i,j))\n",
    "            func_df[i] = col\n",
    "        func_df['c'] = self.c\n",
    "        return func_df\n",
    "    \n",
    "    #Set param value for integer L-value (angular momentum quantum number)\n",
    "    def Data(self):\n",
    "        return GenerateData(self.l).Populate()"
   ]
  },
  {
   "cell_type": "markdown",
   "metadata": {},
   "source": [
    "Dataframe for Exponential Function Values: Rows = C-values, Columns = Integer X-values"
   ]
  },
  {
   "cell_type": "code",
   "execution_count": 72,
   "metadata": {},
   "outputs": [
    {
     "data": {
      "text/html": [
       "<div>\n",
       "<style scoped>\n",
       "    .dataframe tbody tr th:only-of-type {\n",
       "        vertical-align: middle;\n",
       "    }\n",
       "\n",
       "    .dataframe tbody tr th {\n",
       "        vertical-align: top;\n",
       "    }\n",
       "\n",
       "    .dataframe thead th {\n",
       "        text-align: right;\n",
       "    }\n",
       "</style>\n",
       "<table border=\"1\" class=\"dataframe\">\n",
       "  <thead>\n",
       "    <tr style=\"text-align: right;\">\n",
       "      <th></th>\n",
       "      <th>0</th>\n",
       "      <th>1</th>\n",
       "      <th>2</th>\n",
       "      <th>3</th>\n",
       "      <th>c</th>\n",
       "    </tr>\n",
       "  </thead>\n",
       "  <tbody>\n",
       "    <tr>\n",
       "      <th>0.0001</th>\n",
       "      <td>1.0</td>\n",
       "      <td>0.000000</td>\n",
       "      <td>0.000000</td>\n",
       "      <td>0.000000</td>\n",
       "      <td>0.0001</td>\n",
       "    </tr>\n",
       "    <tr>\n",
       "      <th>0.0002</th>\n",
       "      <td>1.0</td>\n",
       "      <td>0.000000</td>\n",
       "      <td>0.000000</td>\n",
       "      <td>0.000000</td>\n",
       "      <td>0.0002</td>\n",
       "    </tr>\n",
       "    <tr>\n",
       "      <th>0.0003</th>\n",
       "      <td>1.0</td>\n",
       "      <td>0.000000</td>\n",
       "      <td>0.000000</td>\n",
       "      <td>0.000000</td>\n",
       "      <td>0.0003</td>\n",
       "    </tr>\n",
       "    <tr>\n",
       "      <th>0.0004</th>\n",
       "      <td>1.0</td>\n",
       "      <td>0.000000</td>\n",
       "      <td>0.000000</td>\n",
       "      <td>0.000000</td>\n",
       "      <td>0.0004</td>\n",
       "    </tr>\n",
       "    <tr>\n",
       "      <th>0.0005</th>\n",
       "      <td>1.0</td>\n",
       "      <td>0.000000</td>\n",
       "      <td>0.000000</td>\n",
       "      <td>0.000000</td>\n",
       "      <td>0.0005</td>\n",
       "    </tr>\n",
       "    <tr>\n",
       "      <th>...</th>\n",
       "      <td>...</td>\n",
       "      <td>...</td>\n",
       "      <td>...</td>\n",
       "      <td>...</td>\n",
       "      <td>...</td>\n",
       "    </tr>\n",
       "    <tr>\n",
       "      <th>0.9995</th>\n",
       "      <td>1.0</td>\n",
       "      <td>0.367695</td>\n",
       "      <td>0.135200</td>\n",
       "      <td>0.049712</td>\n",
       "      <td>0.9995</td>\n",
       "    </tr>\n",
       "    <tr>\n",
       "      <th>0.9996</th>\n",
       "      <td>1.0</td>\n",
       "      <td>0.367732</td>\n",
       "      <td>0.135227</td>\n",
       "      <td>0.049727</td>\n",
       "      <td>0.9996</td>\n",
       "    </tr>\n",
       "    <tr>\n",
       "      <th>0.9997</th>\n",
       "      <td>1.0</td>\n",
       "      <td>0.367769</td>\n",
       "      <td>0.135254</td>\n",
       "      <td>0.049742</td>\n",
       "      <td>0.9997</td>\n",
       "    </tr>\n",
       "    <tr>\n",
       "      <th>0.9998</th>\n",
       "      <td>1.0</td>\n",
       "      <td>0.367806</td>\n",
       "      <td>0.135281</td>\n",
       "      <td>0.049757</td>\n",
       "      <td>0.9998</td>\n",
       "    </tr>\n",
       "    <tr>\n",
       "      <th>0.9999</th>\n",
       "      <td>1.0</td>\n",
       "      <td>0.367843</td>\n",
       "      <td>0.135308</td>\n",
       "      <td>0.049772</td>\n",
       "      <td>0.9999</td>\n",
       "    </tr>\n",
       "  </tbody>\n",
       "</table>\n",
       "<p>9999 rows × 5 columns</p>\n",
       "</div>"
      ],
      "text/plain": [
       "          0         1         2         3       c\n",
       "0.0001  1.0  0.000000  0.000000  0.000000  0.0001\n",
       "0.0002  1.0  0.000000  0.000000  0.000000  0.0002\n",
       "0.0003  1.0  0.000000  0.000000  0.000000  0.0003\n",
       "0.0004  1.0  0.000000  0.000000  0.000000  0.0004\n",
       "0.0005  1.0  0.000000  0.000000  0.000000  0.0005\n",
       "...     ...       ...       ...       ...     ...\n",
       "0.9995  1.0  0.367695  0.135200  0.049712  0.9995\n",
       "0.9996  1.0  0.367732  0.135227  0.049727  0.9996\n",
       "0.9997  1.0  0.367769  0.135254  0.049742  0.9997\n",
       "0.9998  1.0  0.367806  0.135281  0.049757  0.9998\n",
       "0.9999  1.0  0.367843  0.135308  0.049772  0.9999\n",
       "\n",
       "[9999 rows x 5 columns]"
      ]
     },
     "execution_count": 72,
     "metadata": {},
     "output_type": "execute_result"
    }
   ],
   "source": [
    "data = GenerateData(4).Data()\n",
    "data"
   ]
  },
  {
   "cell_type": "markdown",
   "metadata": {},
   "source": [
    "Initialize neural net"
   ]
  },
  {
   "cell_type": "code",
   "execution_count": 68,
   "metadata": {},
   "outputs": [
    {
     "name": "stdout",
     "output_type": "stream",
     "text": [
      "Using cpu device\n"
     ]
    }
   ],
   "source": [
    "from torch import nn\n",
    "from torch.utils.data import DataLoader\n",
    "from torchvision import transforms\n",
    "from torchvision.transforms import ToTensor, Lambda\n",
    "import torch.nn.functional as F\n",
    "\n",
    "device = \"cuda\" if torch.cuda.is_available() else \"cpu\"\n",
    "print(f\"Using {device} device\")"
   ]
  },
  {
   "cell_type": "markdown",
   "metadata": {},
   "source": [
    "Linear stack NN with a Softmax screen - initiate with nodes equal to L-value"
   ]
  },
  {
   "cell_type": "code",
   "execution_count": 96,
   "metadata": {},
   "outputs": [
    {
     "name": "stdout",
     "output_type": "stream",
     "text": [
      "NeuralNetwork(\n",
      "  (linear_relu_stack): Sequential(\n",
      "    (0): Flatten(start_dim=1, end_dim=-1)\n",
      "    (1): Linear(in_features=5, out_features=100, bias=True)\n",
      "    (2): ReLU()\n",
      "    (3): Linear(in_features=100, out_features=100, bias=True)\n",
      "    (4): ReLU()\n",
      "    (5): Linear(in_features=30, out_features=3, bias=True)\n",
      "  )\n",
      ")\n"
     ]
    }
   ],
   "source": [
    "class NeuralNetwork(nn.Module):\n",
    "    def __init__(self):\n",
    "        super(NeuralNetwork, self).__init__()\n",
    "        self.linear_relu_stack = nn.Sequential(\n",
    "            nn.Flatten(),\n",
    "            nn.Linear(len(data.columns), 100),\n",
    "            nn.ReLU(),\n",
    "            nn.Linear(100, 100),\n",
    "            nn.ReLU(),\n",
    "            nn.Linear(30, 3),\n",
    "        )\n",
    "\n",
    "    def forward(self, x):\n",
    "        logits = self.linear_relu_stack(x)\n",
    "        return logits\n",
    "\n",
    "model = NeuralNetwork().to(device)\n",
    "print(model)"
   ]
  },
  {
   "cell_type": "markdown",
   "metadata": {},
   "source": [
    "Implementation of Dataloader for Tensor Values"
   ]
  },
  {
   "cell_type": "code",
   "execution_count": 93,
   "metadata": {},
   "outputs": [
    {
     "ename": "TypeError",
     "evalue": "ToTensor.__init__() takes 1 positional argument but 2 were given",
     "output_type": "error",
     "traceback": [
      "\u001b[0;31m---------------------------------------------------------------------------\u001b[0m",
      "\u001b[0;31mTypeError\u001b[0m                                 Traceback (most recent call last)",
      "\u001b[1;32m/Users/brianreicher/Documents/GitHub/Kondo-Singlet-ML/NN_Architectures/exponential_predic.ipynb Cell 12'\u001b[0m in \u001b[0;36m<cell line: 6>\u001b[0;34m()\u001b[0m\n\u001b[1;32m      <a href='vscode-notebook-cell:/Users/brianreicher/Documents/GitHub/Kondo-Singlet-ML/NN_Architectures/exponential_predic.ipynb#ch0000013?line=2'>3</a>\u001b[0m \u001b[39mfor\u001b[39;00m i \u001b[39min\u001b[39;00m drop_vals:\n\u001b[1;32m      <a href='vscode-notebook-cell:/Users/brianreicher/Documents/GitHub/Kondo-Singlet-ML/NN_Architectures/exponential_predic.ipynb#ch0000013?line=3'>4</a>\u001b[0m     drop_vals[i] \u001b[39m=\u001b[39m \u001b[39mstr\u001b[39m(drop_vals[i])\n\u001b[0;32m----> <a href='vscode-notebook-cell:/Users/brianreicher/Documents/GitHub/Kondo-Singlet-ML/NN_Architectures/exponential_predic.ipynb#ch0000013?line=5'>6</a>\u001b[0m training_data \u001b[39m=\u001b[39m ToTensor(data\u001b[39m.\u001b[39;49mdrop(columns\u001b[39m=\u001b[39;49m\u001b[39m'\u001b[39;49m\u001b[39mc\u001b[39;49m\u001b[39m'\u001b[39;49m))\n\u001b[1;32m      <a href='vscode-notebook-cell:/Users/brianreicher/Documents/GitHub/Kondo-Singlet-ML/NN_Architectures/exponential_predic.ipynb#ch0000013?line=6'>7</a>\u001b[0m test_data \u001b[39m=\u001b[39m ToTensor(data\u001b[39m.\u001b[39mdrop(drop_vals))\n\u001b[1;32m      <a href='vscode-notebook-cell:/Users/brianreicher/Documents/GitHub/Kondo-Singlet-ML/NN_Architectures/exponential_predic.ipynb#ch0000013?line=8'>9</a>\u001b[0m train_dataloader \u001b[39m=\u001b[39m DataLoader(training_data, batch_size\u001b[39m=\u001b[39m\u001b[39m64\u001b[39m)\n",
      "\u001b[0;31mTypeError\u001b[0m: ToTensor.__init__() takes 1 positional argument but 2 were given"
     ]
    }
   ],
   "source": [
    "#Drop indicies for labels\n",
    "drop_vals = np.arange(len(data.columns)-1).tolist()\n",
    "for i in drop_vals:\n",
    "    drop_vals[i] = str(drop_vals[i])\n",
    "\n",
    "training_data = ToTensor(data.drop(columns='c'))\n",
    "test_data = ToTensor(data.drop(drop_vals))\n",
    "\n",
    "train_dataloader = DataLoader(training_data, batch_size=64)\n",
    "test_dataloader = DataLoader(test_data, batch_size=64)"
   ]
  },
  {
   "cell_type": "markdown",
   "metadata": {},
   "source": [
    "Model Params"
   ]
  },
  {
   "cell_type": "code",
   "execution_count": 94,
   "metadata": {},
   "outputs": [],
   "source": [
    "learning_rate = 1e-3\n",
    "batch_size = 64\n",
    "epochs = 5\n",
    "\n",
    "loss_fn = nn.CrossEntropyLoss()\n",
    "optimizer = torch.optim.SGD(model.parameters(), lr=learning_rate)\n",
    "\n"
   ]
  },
  {
   "cell_type": "markdown",
   "metadata": {},
   "source": [
    "Model Training/Testing"
   ]
  },
  {
   "cell_type": "code",
   "execution_count": 95,
   "metadata": {},
   "outputs": [],
   "source": [
    "def train_loop(dataloader, model, loss_fn, optimizer):\n",
    "    size = len(dataloader.dataset)\n",
    "    for batch, (X, y) in enumerate(dataloader):\n",
    "        # Compute prediction and loss\n",
    "        pred = model(X)\n",
    "        loss = loss_fn(pred, y)\n",
    "\n",
    "        # Backpropagation\n",
    "        optimizer.zero_grad()\n",
    "        loss.backward()\n",
    "        optimizer.step()\n",
    "\n",
    "        if batch % 100 == 0:\n",
    "            loss, current = loss.item(), batch * len(X)\n",
    "            print(f\"loss: {loss:>7f}  [{current:>5d}/{size:>5d}]\")\n",
    "\n",
    "\n",
    "def test_loop(dataloader, model, loss_fn):\n",
    "    size = len(dataloader.dataset)\n",
    "    num_batches = len(dataloader)\n",
    "    test_loss, correct = 0, 0\n",
    "\n",
    "    with torch.no_grad():\n",
    "        for X, y in dataloader:\n",
    "            pred = model(X)\n",
    "            test_loss += loss_fn(pred, y).item()\n",
    "            correct += (pred.argmax(1) == y).type(torch.float).sum().item()\n",
    "\n",
    "    test_loss /= num_batches\n",
    "    correct /= size\n",
    "    print(f\"Test Error: \\n Accuracy: {(100*correct):>0.1f}%, Avg loss: {test_loss:>8f} \\n\")"
   ]
  },
  {
   "cell_type": "markdown",
   "metadata": {},
   "source": [
    "Sample Testing of Network on Random Tensors"
   ]
  },
  {
   "cell_type": "code",
   "execution_count": 19,
   "metadata": {},
   "outputs": [
    {
     "name": "stdout",
     "output_type": "stream",
     "text": [
      "Predicted class: tensor([1, 1, 1, 1, 1, 1, 1, 1, 1, 1, 1, 1, 1, 1, 1, 1, 1, 1, 1, 1, 1, 1, 1, 1,\n",
      "        1, 1, 1, 1, 1, 1, 1, 1, 1, 1, 1, 1, 1, 1, 1, 1, 1, 1, 1, 1, 1, 1, 1, 1,\n",
      "        1, 1, 1, 1, 1, 1, 1, 1, 1, 1, 1, 1, 1, 1, 1, 1, 1, 1, 1, 1, 1, 1, 1, 1,\n",
      "        1, 1, 1, 1, 1, 1, 1, 1, 1, 1, 1, 1, 1, 1, 1, 1, 1, 1, 1, 1, 1, 1, 1, 1,\n",
      "        1, 1, 1, 1])\n"
     ]
    }
   ],
   "source": [
    "X = torch.rand(100, 1, device=device)\n",
    "logits = model(X)\n",
    "pred_probab = nn.Softmax(dim=1)(logits)\n",
    "y_pred = pred_probab.argmax(1)\n",
    "print(f\"Predicted class: {y_pred}\")"
   ]
  }
 ],
 "metadata": {
  "interpreter": {
   "hash": "52609788a0d7b076df1f6e94b2eeac5018bf766632da13e4e0939799074b2c6e"
  },
  "kernelspec": {
   "display_name": "Python 3.10.0 ('kondo')",
   "language": "python",
   "name": "python3"
  },
  "language_info": {
   "codemirror_mode": {
    "name": "ipython",
    "version": 3
   },
   "file_extension": ".py",
   "mimetype": "text/x-python",
   "name": "python",
   "nbconvert_exporter": "python",
   "pygments_lexer": "ipython3",
   "version": "3.10.0"
  },
  "orig_nbformat": 4
 },
 "nbformat": 4,
 "nbformat_minor": 2
}
