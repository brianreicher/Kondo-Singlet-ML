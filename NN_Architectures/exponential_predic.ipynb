{
 "cells": [
  {
   "cell_type": "code",
   "execution_count": 3,
   "metadata": {},
   "outputs": [],
   "source": [
    "import numpy as np\n",
    "import pandas as pd\n",
    "import torch \n",
    "import tensorboard"
   ]
  },
  {
   "cell_type": "markdown",
   "metadata": {},
   "source": [
    "Generate dataset"
   ]
  },
  {
   "cell_type": "markdown",
   "metadata": {},
   "source": [
    "- Consider the exponential function f(x)=exp(-x/c), with x=0,1,2,….,L-1 integers\n",
    "- Generate many training datasets {f(0,f(1),f(2),…f(L-1)} for different values of c\n",
    "- Now we solve the inverse problem: input c and see if you get the exponential."
   ]
  },
  {
   "cell_type": "code",
   "execution_count": 65,
   "metadata": {},
   "outputs": [],
   "source": [
    "#Returns a dataframe of calculated exponential functions for given C-parameters and L-angular quantum numbers\n",
    "class GenerateData():\n",
    "    def __init__(self, l):\n",
    "        self.l = l\n",
    "        self.x = np.arange(l)\n",
    "        self.c = np.arange(start=0.0001, stop=1, step = 0.0001)\n",
    "    \n",
    "    #Evaluate function for given c-values\n",
    "    def Func(self, input, arg):\n",
    "        #func= np.zeros(shape = (self.l,))\n",
    "        #for i in range(0, self.l):\n",
    "        #    func[i] = np.e**(-self.x[i]/arg)\n",
    "        return np.e**(-input/arg)\n",
    "    \n",
    "    #Create dataset: 100,000 funcs?\n",
    "    def Populate(self):\n",
    "        func_df = pd.DataFrame(index = self.c.tolist())\n",
    "        for i in self.x:\n",
    "            col = []\n",
    "            for j in self.c:\n",
    "                col.append(GenerateData(self.l).Func(i,j))\n",
    "            func_df[i] = col\n",
    "        return func_df\n",
    "    \n",
    "    #Set param value for integer L-value (angular momentum quantum number)\n",
    "    def Data(self):\n",
    "        return GenerateData(self.l).Populate()"
   ]
  },
  {
   "cell_type": "markdown",
   "metadata": {},
   "source": [
    "Dataframe for Exponential Function Values: Rows = C-values, Columns = Integer X-values"
   ]
  },
  {
   "cell_type": "code",
   "execution_count": 66,
   "metadata": {},
   "outputs": [
    {
     "data": {
      "text/html": [
       "<div>\n",
       "<style scoped>\n",
       "    .dataframe tbody tr th:only-of-type {\n",
       "        vertical-align: middle;\n",
       "    }\n",
       "\n",
       "    .dataframe tbody tr th {\n",
       "        vertical-align: top;\n",
       "    }\n",
       "\n",
       "    .dataframe thead th {\n",
       "        text-align: right;\n",
       "    }\n",
       "</style>\n",
       "<table border=\"1\" class=\"dataframe\">\n",
       "  <thead>\n",
       "    <tr style=\"text-align: right;\">\n",
       "      <th></th>\n",
       "      <th>0</th>\n",
       "      <th>1</th>\n",
       "      <th>2</th>\n",
       "      <th>3</th>\n",
       "    </tr>\n",
       "  </thead>\n",
       "  <tbody>\n",
       "    <tr>\n",
       "      <th>0.0001</th>\n",
       "      <td>1.0</td>\n",
       "      <td>0.000000</td>\n",
       "      <td>0.000000</td>\n",
       "      <td>0.000000</td>\n",
       "    </tr>\n",
       "    <tr>\n",
       "      <th>0.0002</th>\n",
       "      <td>1.0</td>\n",
       "      <td>0.000000</td>\n",
       "      <td>0.000000</td>\n",
       "      <td>0.000000</td>\n",
       "    </tr>\n",
       "    <tr>\n",
       "      <th>0.0003</th>\n",
       "      <td>1.0</td>\n",
       "      <td>0.000000</td>\n",
       "      <td>0.000000</td>\n",
       "      <td>0.000000</td>\n",
       "    </tr>\n",
       "    <tr>\n",
       "      <th>0.0004</th>\n",
       "      <td>1.0</td>\n",
       "      <td>0.000000</td>\n",
       "      <td>0.000000</td>\n",
       "      <td>0.000000</td>\n",
       "    </tr>\n",
       "    <tr>\n",
       "      <th>0.0005</th>\n",
       "      <td>1.0</td>\n",
       "      <td>0.000000</td>\n",
       "      <td>0.000000</td>\n",
       "      <td>0.000000</td>\n",
       "    </tr>\n",
       "    <tr>\n",
       "      <th>...</th>\n",
       "      <td>...</td>\n",
       "      <td>...</td>\n",
       "      <td>...</td>\n",
       "      <td>...</td>\n",
       "    </tr>\n",
       "    <tr>\n",
       "      <th>0.9995</th>\n",
       "      <td>1.0</td>\n",
       "      <td>0.367695</td>\n",
       "      <td>0.135200</td>\n",
       "      <td>0.049712</td>\n",
       "    </tr>\n",
       "    <tr>\n",
       "      <th>0.9996</th>\n",
       "      <td>1.0</td>\n",
       "      <td>0.367732</td>\n",
       "      <td>0.135227</td>\n",
       "      <td>0.049727</td>\n",
       "    </tr>\n",
       "    <tr>\n",
       "      <th>0.9997</th>\n",
       "      <td>1.0</td>\n",
       "      <td>0.367769</td>\n",
       "      <td>0.135254</td>\n",
       "      <td>0.049742</td>\n",
       "    </tr>\n",
       "    <tr>\n",
       "      <th>0.9998</th>\n",
       "      <td>1.0</td>\n",
       "      <td>0.367806</td>\n",
       "      <td>0.135281</td>\n",
       "      <td>0.049757</td>\n",
       "    </tr>\n",
       "    <tr>\n",
       "      <th>0.9999</th>\n",
       "      <td>1.0</td>\n",
       "      <td>0.367843</td>\n",
       "      <td>0.135308</td>\n",
       "      <td>0.049772</td>\n",
       "    </tr>\n",
       "  </tbody>\n",
       "</table>\n",
       "<p>9999 rows × 4 columns</p>\n",
       "</div>"
      ],
      "text/plain": [
       "          0         1         2         3\n",
       "0.0001  1.0  0.000000  0.000000  0.000000\n",
       "0.0002  1.0  0.000000  0.000000  0.000000\n",
       "0.0003  1.0  0.000000  0.000000  0.000000\n",
       "0.0004  1.0  0.000000  0.000000  0.000000\n",
       "0.0005  1.0  0.000000  0.000000  0.000000\n",
       "...     ...       ...       ...       ...\n",
       "0.9995  1.0  0.367695  0.135200  0.049712\n",
       "0.9996  1.0  0.367732  0.135227  0.049727\n",
       "0.9997  1.0  0.367769  0.135254  0.049742\n",
       "0.9998  1.0  0.367806  0.135281  0.049757\n",
       "0.9999  1.0  0.367843  0.135308  0.049772\n",
       "\n",
       "[9999 rows x 4 columns]"
      ]
     },
     "execution_count": 66,
     "metadata": {},
     "output_type": "execute_result"
    }
   ],
   "source": [
    "GenerateData(4).Data()"
   ]
  },
  {
   "cell_type": "markdown",
   "metadata": {},
   "source": [
    "Initialize neural net"
   ]
  },
  {
   "cell_type": "code",
   "execution_count": 61,
   "metadata": {},
   "outputs": [
    {
     "name": "stdout",
     "output_type": "stream",
     "text": [
      "Using cpu device\n"
     ]
    }
   ],
   "source": [
    "from torch import nn\n",
    "from torch.utils.data import DataLoader\n",
    "from torchvision import transforms\n",
    "import torch.nn.functional as F\n",
    "\n",
    "device = \"cuda\" if torch.cuda.is_available() else \"cpu\"\n",
    "print(f\"Using {device} device\")"
   ]
  },
  {
   "cell_type": "code",
   "execution_count": 62,
   "metadata": {},
   "outputs": [
    {
     "name": "stdout",
     "output_type": "stream",
     "text": [
      "NeuralNetwork(\n",
      "  (flatten): Flatten(start_dim=1, end_dim=-1)\n",
      "  (linear_relu_stack): Sequential(\n",
      "    (0): Linear(in_features=1, out_features=30, bias=True)\n",
      "    (1): ReLU()\n",
      "    (2): Linear(in_features=30, out_features=30, bias=True)\n",
      "    (3): ReLU()\n",
      "    (4): Linear(in_features=30, out_features=3, bias=True)\n",
      "  )\n",
      ")\n"
     ]
    }
   ],
   "source": [
    "class NeuralNetwork(nn.Module):\n",
    "    def __init__(self):\n",
    "        super(NeuralNetwork, self).__init__()\n",
    "        self.flatten = nn.Flatten()\n",
    "        self.linear_relu_stack = nn.Sequential(\n",
    "            nn.Linear(1, 30),\n",
    "            nn.ReLU(),\n",
    "            nn.Linear(30, 30),\n",
    "            nn.ReLU(),\n",
    "            nn.Linear(30, 3),\n",
    "        )\n",
    "\n",
    "    def forward(self, x):\n",
    "        x = self.flatten(x)\n",
    "        logits = self.linear_relu_stack(x)\n",
    "        return logits\n",
    "\n",
    "model = NeuralNetwork().to(device)\n",
    "print(model)"
   ]
  },
  {
   "cell_type": "code",
   "execution_count": 19,
   "metadata": {},
   "outputs": [
    {
     "name": "stdout",
     "output_type": "stream",
     "text": [
      "Predicted class: tensor([1, 1, 1, 1, 1, 1, 1, 1, 1, 1, 1, 1, 1, 1, 1, 1, 1, 1, 1, 1, 1, 1, 1, 1,\n",
      "        1, 1, 1, 1, 1, 1, 1, 1, 1, 1, 1, 1, 1, 1, 1, 1, 1, 1, 1, 1, 1, 1, 1, 1,\n",
      "        1, 1, 1, 1, 1, 1, 1, 1, 1, 1, 1, 1, 1, 1, 1, 1, 1, 1, 1, 1, 1, 1, 1, 1,\n",
      "        1, 1, 1, 1, 1, 1, 1, 1, 1, 1, 1, 1, 1, 1, 1, 1, 1, 1, 1, 1, 1, 1, 1, 1,\n",
      "        1, 1, 1, 1])\n"
     ]
    }
   ],
   "source": [
    "X = torch.rand(100, 1, device=device)\n",
    "logits = model(X)\n",
    "pred_probab = nn.Softmax(dim=1)(logits)\n",
    "y_pred = pred_probab.argmax(1)\n",
    "print(f\"Predicted class: {y_pred}\")"
   ]
  }
 ],
 "metadata": {
  "interpreter": {
   "hash": "52609788a0d7b076df1f6e94b2eeac5018bf766632da13e4e0939799074b2c6e"
  },
  "kernelspec": {
   "display_name": "Python 3.10.0 ('kondo')",
   "language": "python",
   "name": "python3"
  },
  "language_info": {
   "codemirror_mode": {
    "name": "ipython",
    "version": 3
   },
   "file_extension": ".py",
   "mimetype": "text/x-python",
   "name": "python",
   "nbconvert_exporter": "python",
   "pygments_lexer": "ipython3",
   "version": "3.10.0"
  },
  "orig_nbformat": 4
 },
 "nbformat": 4,
 "nbformat_minor": 2
}
