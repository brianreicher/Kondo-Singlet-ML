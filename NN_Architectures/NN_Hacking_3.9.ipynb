{
 "cells": [
  {
   "cell_type": "code",
   "execution_count": 60,
   "id": "aec837f6",
   "metadata": {},
   "outputs": [
    {
     "name": "stdout",
     "output_type": "stream",
     "text": [
      "Epoch 1/10\n",
      "1/1 [==============================] - 0s 253ms/step - loss: 3254.6707\n",
      "Epoch 2/10\n",
      "1/1 [==============================] - 0s 3ms/step - loss: 3252.6951\n",
      "Epoch 3/10\n",
      "1/1 [==============================] - 0s 2ms/step - loss: 3250.6956\n",
      "Epoch 4/10\n",
      "1/1 [==============================] - 0s 2ms/step - loss: 3248.6685\n",
      "Epoch 5/10\n",
      "1/1 [==============================] - 0s 2ms/step - loss: 3246.5972\n",
      "Epoch 6/10\n",
      "1/1 [==============================] - 0s 3ms/step - loss: 3244.4331\n",
      "Epoch 7/10\n",
      "1/1 [==============================] - 0s 4ms/step - loss: 3242.2703\n",
      "Epoch 8/10\n",
      "1/1 [==============================] - 0s 7ms/step - loss: 3240.0969\n",
      "Epoch 9/10\n",
      "1/1 [==============================] - 0s 4ms/step - loss: 3237.8291\n",
      "Epoch 10/10\n",
      "1/1 [==============================] - 0s 3ms/step - loss: 3235.4700\n"
     ]
    }
   ],
   "source": [
    "import numpy as np\n",
    "from tensorflow.python.keras.layers import Input, Dense\n",
    "from tensorflow.python.keras.models import Model\n",
    "\n",
    "X=np.random.random(size=(100,1))\n",
    "y=np.random.randint(0,100,size=(100,3)).astype(float)   #Regression\n",
    "\n",
    "input1 = Input(shape=(1,))\n",
    "l1 = Dense(10, activation='relu')(input1)\n",
    "l2 = Dense(50, activation='tanh')(l1)\n",
    "l3 = Dense(50, activation='leaky_relu')(l2)\n",
    "out = Dense(3)(l3)\n",
    "\n",
    "model = Model(inputs=input1, outputs=[out])\n",
    "model.compile(\n",
    "    optimizer='adam',\n",
    "    loss=['mean_squared_error']\n",
    "    )\n",
    "history = model.fit(X, [y], epochs=10, batch_size=100)"
   ]
  },
  {
   "cell_type": "code",
   "execution_count": 7,
   "id": "24b100e4",
   "metadata": {},
   "outputs": [
    {
     "name": "stdout",
     "output_type": "stream",
     "text": [
      "Using cpu device\n"
     ]
    }
   ],
   "source": [
    "import torch \n",
    "from torch import nn\n",
    "from torch.utils.data import DataLoader\n",
    "from torchvision import transforms\n",
    "import torch.nn.functional as F\n",
    "\n",
    "device = \"cuda\" if torch.cuda.is_available() else \"cpu\"\n",
    "print(f\"Using {device} device\")"
   ]
  },
  {
   "cell_type": "code",
   "execution_count": 66,
   "id": "e5071acf",
   "metadata": {},
   "outputs": [
    {
     "name": "stdout",
     "output_type": "stream",
     "text": [
      "NeuralNetwork(\n",
      "  (flatten): Flatten(start_dim=1, end_dim=-1)\n",
      "  (linear_relu_stack): Sequential(\n",
      "    (0): Linear(in_features=1, out_features=30, bias=True)\n",
      "    (1): ReLU()\n",
      "    (2): Linear(in_features=30, out_features=30, bias=True)\n",
      "    (3): LeakyReLU(negative_slope=0.01)\n",
      "    (4): Linear(in_features=30, out_features=3, bias=True)\n",
      "  )\n",
      ")\n"
     ]
    }
   ],
   "source": [
    "class NeuralNetwork(nn.Module):\n",
    "    def __init__(self):\n",
    "        super(NeuralNetwork, self).__init__()\n",
    "        self.flatten = nn.Flatten()\n",
    "        self.linear_relu_stack = nn.Sequential(\n",
    "            nn.Linear(1, 30),\n",
    "            nn.ReLU(),\n",
    "            nn.Linear(30, 30),\n",
    "            nn.LeakyReLU(),\n",
    "            nn.Linear(30, 3),\n",
    "        )\n",
    "\n",
    "    def forward(self, x):\n",
    "        x = self.flatten(x)\n",
    "        logits = self.linear_relu_stack(x)\n",
    "        return logits\n",
    "\n",
    "model = NeuralNetwork().to(device)\n",
    "print(model)"
   ]
  },
  {
   "cell_type": "code",
   "execution_count": 68,
   "id": "7f0d501a",
   "metadata": {},
   "outputs": [
    {
     "name": "stdout",
     "output_type": "stream",
     "text": [
      "Predicted class: tensor([0, 0, 0, 0, 0, 0, 0, 0, 0, 0, 0, 0, 0, 0, 0, 0, 0, 0, 0, 0, 0, 0, 0, 0,\n",
      "        0, 0, 0, 0, 0, 0, 0, 0, 0, 0, 0, 0, 0, 0, 0, 0, 0, 0, 0, 0, 0, 0, 0, 0,\n",
      "        0, 0, 0, 0, 0, 0, 0, 0, 0, 0, 0, 0, 0, 0, 0, 0, 0, 0, 0, 0, 0, 0, 0, 0,\n",
      "        0, 0, 0, 0, 0, 0, 0, 0, 0, 0, 0, 0, 0, 0, 0, 0, 0, 0, 0, 0, 0, 0, 0, 0,\n",
      "        0, 0, 0, 0])\n"
     ]
    }
   ],
   "source": [
    "X = torch.rand(100, 1, device=device)\n",
    "logits = model(X)\n",
    "pred_probab = nn.Softmax(dim=1)(logits)\n",
    "y_pred = pred_probab.argmax(1)\n",
    "print(f\"Predicted class: {y_pred}\")"
   ]
  }
 ],
 "metadata": {
  "kernelspec": {
   "display_name": "Python 3 (ipykernel)",
   "language": "python",
   "name": "python3"
  },
  "language_info": {
   "codemirror_mode": {
    "name": "ipython",
    "version": 3
   },
   "file_extension": ".py",
   "mimetype": "text/x-python",
   "name": "python",
   "nbconvert_exporter": "python",
   "pygments_lexer": "ipython3",
   "version": "3.9.1"
  }
 },
 "nbformat": 4,
 "nbformat_minor": 5
}
